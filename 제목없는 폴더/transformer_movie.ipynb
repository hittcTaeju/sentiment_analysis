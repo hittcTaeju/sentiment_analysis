{
 "cells": [
  {
   "cell_type": "markdown",
   "metadata": {},
   "source": [
    "# Model Implementation\n",
    "\n",
    "M2 맥북의 GPU를 조금 더 잘 지원해주는 텐서플로우와 케라스를 사용해서 구현합니다.\n",
    "\n",
    "![image-2.png](./img/transformer.png)\n"
   ]
  },
  {
   "cell_type": "markdown",
   "metadata": {},
   "source": [
    "## Import Library"
   ]
  },
  {
   "cell_type": "code",
   "execution_count": 1,
   "metadata": {},
   "outputs": [],
   "source": [
    "import tensorflow as tf\n",
    "from tensorflow.keras import models, layers, optimizers\n",
    "import numpy as np\n",
    "import matplotlib.pyplot as plt"
   ]
  },
  {
   "cell_type": "code",
   "execution_count": 2,
   "metadata": {},
   "outputs": [
    {
     "name": "stdout",
     "output_type": "stream",
     "text": [
      "Num GPUs Available:  1\n"
     ]
    }
   ],
   "source": [
    "print(\"Num GPUs Available: \", len(tf.config.experimental.list_physical_devices('GPU')))"
   ]
  },
  {
   "cell_type": "code",
   "execution_count": 3,
   "metadata": {},
   "outputs": [
    {
     "data": {
      "text/plain": [
       "numpy.ndarray"
      ]
     },
     "execution_count": 3,
     "metadata": {},
     "output_type": "execute_result"
    }
   ],
   "source": [
    "(x_train, y_train), (x_test, y_test) = tf.keras.datasets.mnist.load_data()\n",
    "type(x_train)"
   ]
  },
  {
   "cell_type": "code",
   "execution_count": 4,
   "metadata": {},
   "outputs": [
    {
     "name": "stderr",
     "output_type": "stream",
     "text": [
      "2023-11-28 00:47:03.881201: I metal_plugin/src/device/metal_device.cc:1154] Metal device set to: Apple M2 Pro\n",
      "2023-11-28 00:47:03.881225: I metal_plugin/src/device/metal_device.cc:296] systemMemory: 16.00 GB\n",
      "2023-11-28 00:47:03.881233: I metal_plugin/src/device/metal_device.cc:313] maxCacheSize: 5.33 GB\n",
      "2023-11-28 00:47:03.881493: I tensorflow/core/common_runtime/pluggable_device/pluggable_device_factory.cc:306] Could not identify NUMA node of platform GPU ID 0, defaulting to 0. Your kernel may not have been built with NUMA support.\n",
      "2023-11-28 00:47:03.881694: I tensorflow/core/common_runtime/pluggable_device/pluggable_device_factory.cc:272] Created TensorFlow device (/job:localhost/replica:0/task:0/device:GPU:0 with 0 MB memory) -> physical PluggableDevice (device: 0, name: METAL, pci bus id: <undefined>)\n"
     ]
    }
   ],
   "source": [
    "a = tf.convert_to_tensor(x_train)"
   ]
  },
  {
   "cell_type": "code",
   "execution_count": 5,
   "metadata": {},
   "outputs": [
    {
     "data": {
      "text/plain": [
       "60000"
      ]
     },
     "execution_count": 5,
     "metadata": {},
     "output_type": "execute_result"
    }
   ],
   "source": [
    "tf.transpose(x_train).shape[-1]"
   ]
  },
  {
   "cell_type": "markdown",
   "metadata": {},
   "source": [
    "## Scaled dot Attention\n",
    "\n",
    "![image.png](./img/sclaed_dot.png)\n",
    "\n",
    "$$\\text{Attention}(Q, K, V) = \\text{softmax}(\\frac{QK^T}{\\sqrt{d_k}})V$$\n",
    "\n",
    "querys, keys($d_k$), and values($d_v$) are packed together into a matrix $Q, K$($(seq\\_len, d_k)$), $V$($(seq\\_len, d_v)$)"
   ]
  },
  {
   "cell_type": "code",
   "execution_count": 6,
   "metadata": {},
   "outputs": [],
   "source": [
    "class ScaledDotAttention(layers.Layer):\n",
    "  def __init__(self, masked = False):\n",
    "    super().__init__() \n",
    "    self.masked = masked\n",
    "  def call(self, query, key, value):\n",
    "    \"\"\"\n",
    "    Args:\n",
    "        query (): (batch_size, seq_len, d_k)\n",
    "        key (_type_): (batch_size, seq_len, d_k)\n",
    "        value (_type_): (batch_size, seq_len, d_v)\n",
    "    \"\"\"\n",
    "    numer = tf.matmul(query, tf.transpose(key, \n",
    "                                          perm=[0,2,1] # if not, (d_k, seq_len, batch_size)\n",
    "                                          )) # (batch_size, seq_len, seq_len)\n",
    "    scaled = numer / (tf.sqrt(tf.cast(key.shape[-1], dtype=float)) + 1e-7) # prevent devide by zero \n",
    "    # TODO: Optional mask operation\n",
    "    if self.masked == True:\n",
    "      pass # setting -inf all values of input of the softmax which correspond to illegal connections\n",
    "    \n",
    "    weights = tf.nn.softmax(scaled)\n",
    "    \n",
    "    attention = tf.matmul(weights, value)   # (batch_size, seq_len, d_v)\n",
    "    \n",
    "    return attention   "
   ]
  },
  {
   "cell_type": "markdown",
   "metadata": {},
   "source": [
    "## MultiHead Attention\n",
    "![image.png](./img/multi-head.png)\n",
    "$$\n",
    "\\begin{align*}\n",
    "\\text{MultiHead}(Q, K, V) &= \\text{Concat}(\\text{head}_1, \\cdots, \\text{head}_n)W^O\\\\\n",
    "                  &\\text{where}\\ \\text{head}_i = \\text{Attention}(QW_i^Q, KW_i^K, VW_i^V)\n",
    "\\end{align*} \n",
    "$$\n",
    "\n",
    "\n",
    "- $W_i^Q, W_i^K \\in \\mathbb{R}^{d_{\\text{model}}\\times d_k}$\n",
    "- $W_i^V \\in \\mathbb{R}^{d_{\\text{model}}\\times d_v}$\n",
    "- $h = 8$ in paper\n",
    "- $d_k = d_v = d_{\\text{model}}/h = 64$"
   ]
  },
  {
   "cell_type": "code",
   "execution_count": 7,
   "metadata": {},
   "outputs": [],
   "source": [
    "class MultiHeadAttention(layers.Layer):\n",
    "  def __init__(self, d_model=512, heads_num=8, masked=False):\n",
    "    super().__init__()\n",
    "    self.d_model = d_model\n",
    "    self.heads_num = heads_num\n",
    "    self.masked = masked\\\n",
    "    \n",
    "    # d_k = d_v = d_model / h\n",
    "    self.W_q = [layers.Dense(self.d_model/self.heads_num) for _ in range(heads_num)]\n",
    "    self.W_k = [layers.Dense(self.d_model/self.heads_num) for _ in range(heads_num)]\n",
    "    self.W_v = [layers.Dense(self.d_model/self.heads_num) for _ in range(heads_num)]\n",
    "    \n",
    "    self.attention_layers = [ScaledDotAttention(masked) for _ in range(heads_num)]\n",
    "    \n",
    "    self.concat = layers.Concatenate()\n",
    "    \n",
    "    self.output_layer = layers.Dense(d_model)\n",
    "    \n",
    "    \n",
    "  def call(self, query, key, value):\n",
    "    \"\"\"\n",
    "    Args:\n",
    "        query (): (batch_size, seq_len, embed_dim)\n",
    "        key (): (batch_size, seq_len, embed_dim)\n",
    "        value (): (batch_size, seq_len, embed_dim)\n",
    "    \"\"\"\n",
    "    attentions = []\n",
    "    \n",
    "    for i in range(self.heads_num):\n",
    "      q = self.W_q[i](query)\n",
    "      k = self.W_k[i](key)\n",
    "      v = self.W_v[i](value)\n",
    "      attention = self.attention_layers[i](q, k, v)\n",
    "      attentions.append(attention)\n",
    "    \n",
    "    # Concatenate() layer make run parallel\n",
    "    concat = self.concat(attentions)\n",
    "    \n",
    "    ret = self.output_layer(concat)\n",
    "    \n",
    "    return ret"
   ]
  },
  {
   "cell_type": "code",
   "execution_count": 8,
   "metadata": {},
   "outputs": [
    {
     "name": "stdout",
     "output_type": "stream",
     "text": [
      "\n",
      "Multi-Head Attention Output:\n",
      "(2, 5, 3)\n"
     ]
    }
   ],
   "source": [
    "# 입력 데이터 생성\n",
    "batch_size = 2\n",
    "seq_len = 5\n",
    "embed_dim = 3\n",
    "\n",
    "# 입력 데이터 생성\n",
    "query_input_multihead = tf.random.normal(shape=(batch_size, seq_len, embed_dim))\n",
    "key_input_multihead = tf.random.normal(shape=(batch_size, seq_len, embed_dim))\n",
    "value_input_multihead = tf.random.normal(shape=(batch_size, seq_len, embed_dim))\n",
    "# Multi-Head Attention 적용\n",
    "multihead_attention = MultiHeadAttention(d_model=embed_dim, heads_num=2)\n",
    "attention_output_multihead = multihead_attention(query_input_multihead, key_input_multihead, value_input_multihead)\n",
    "\n",
    "# 출력 확인\n",
    "print(\"\\nMulti-Head Attention Output:\")\n",
    "print(attention_output_multihead.numpy().shape)"
   ]
  },
  {
   "cell_type": "markdown",
   "metadata": {},
   "source": [
    "## Add & Norm"
   ]
  },
  {
   "cell_type": "code",
   "execution_count": 9,
   "metadata": {},
   "outputs": [],
   "source": [
    "class AddAndNorm(layers.Layer):\n",
    "  def __init__(self):\n",
    "    super().__init__()\n",
    "    self.add = layers.Add()\n",
    "    self.norm = layers.LayerNormalization()\n",
    "    \n",
    "  def call(self, layer_output, orgin):\n",
    "    ret = self.add([layer_output, orgin])\n",
    "    ret = self.norm(ret)\n",
    "    return ret"
   ]
  },
  {
   "cell_type": "code",
   "execution_count": 10,
   "metadata": {},
   "outputs": [
    {
     "name": "stdout",
     "output_type": "stream",
     "text": [
      "tf.Tensor(\n",
      "[[[-1.6184592   0.73089474 -0.03118897  0.9187534 ]\n",
      "  [ 0.1152693  -1.1273595  -0.5432351   1.5553255 ]\n",
      "  [-0.8812485  -1.1065664   1.0976301   0.8901848 ]]\n",
      "\n",
      " [[ 0.61737037 -1.506422    1.1346003  -0.24554864]\n",
      "  [ 0.9927669   0.63744056 -0.01569004 -1.6145175 ]\n",
      "  [ 0.33727825 -0.70096016 -1.1078955   1.4715774 ]]], shape=(2, 3, 4), dtype=float32)\n"
     ]
    }
   ],
   "source": [
    "input_shape = (2, 3, 4)\n",
    "x1 = tf.random.normal(input_shape)\n",
    "x2 = tf.random.normal(input_shape)\n",
    "y = AddAndNorm()(x1, x2)\n",
    "print(y)"
   ]
  },
  {
   "cell_type": "markdown",
   "metadata": {},
   "source": [
    "## Position-wise Feed-Forward Networks\n",
    "\n",
    "> Another way of describing this is as two convolutions with kernel size = 1.\n",
    "> Thre dimensionality of input and output is $d_\\text{model}$ = 512, and the inner-layer has dimensionality $d_{ff}$ = 2048"
   ]
  },
  {
   "cell_type": "code",
   "execution_count": 11,
   "metadata": {},
   "outputs": [],
   "source": [
    "class FeedForward(layers.Layer):\n",
    "  def __init__(self, d_model = 512, d_ff = 2048):\n",
    "    super().__init__()\n",
    "    \n",
    "    self.fc1 = layers.Dense(d_ff, activation = 'relu')\n",
    "    self.fc2 = layers.Dense(d_model)\n",
    "  \n",
    "  def call(self, inputs):\n",
    "    \"\"\"\n",
    "    Args:\n",
    "        inputs (): (batch_size, seq_len, d_v?)\n",
    "    \"\"\"\n",
    "    ret = self.fc1(inputs)\n",
    "    ret = self.fc2(ret)\n",
    "    return ret"
   ]
  },
  {
   "cell_type": "code",
   "execution_count": 12,
   "metadata": {},
   "outputs": [
    {
     "data": {
      "text/plain": [
       "<tf.Tensor: shape=(2, 3, 512), dtype=float32, numpy=\n",
       "array([[[-0.00724548,  0.32014138,  0.14682686, ...,  0.18885183,\n",
       "          0.184701  , -0.34023434],\n",
       "        [ 0.35366595,  0.01386341,  0.19191137, ...,  0.1726464 ,\n",
       "         -0.24797958,  0.7704921 ],\n",
       "        [-0.14745368, -0.71299624, -0.09469962, ..., -0.7836791 ,\n",
       "         -0.06478266,  0.4695824 ]],\n",
       "\n",
       "       [[ 0.19906475, -0.6791878 , -0.690568  , ..., -0.14246605,\n",
       "         -0.4218566 ,  0.35893548],\n",
       "        [ 0.30987704,  0.31009108, -0.42783344, ...,  0.06303187,\n",
       "          0.57349575,  0.7912327 ],\n",
       "        [ 0.22219601,  0.40473306,  0.45560417, ..., -0.10180901,\n",
       "          0.7539827 ,  0.32992178]]], dtype=float32)>"
      ]
     },
     "execution_count": 12,
     "metadata": {},
     "output_type": "execute_result"
    }
   ],
   "source": [
    "input_shape = (2, 3, 512)\n",
    "x1 = tf.random.normal(input_shape)\n",
    "FeedForward()(x1)"
   ]
  },
  {
   "cell_type": "markdown",
   "metadata": {},
   "source": [
    "## Transformer Encoder"
   ]
  },
  {
   "cell_type": "code",
   "execution_count": 13,
   "metadata": {},
   "outputs": [],
   "source": [
    "class TransformerEncodeLayer(layers.Layer):\n",
    "  def __init__(self, d_model=512, d_ff=2048,\n",
    "               heads_num=8, masked=False):\n",
    "    super().__init__()\n",
    "    self.d_model = d_model\n",
    "    self.heads_num = heads_num\n",
    "    self. masked = masked\n",
    "    \n",
    "    # Define layers\n",
    "    self.dropout1 = layers.Dropout(0.1)\n",
    "    \n",
    "    self.mh_att = MultiHeadAttention(d_model=d_model, heads_num=heads_num, masked=masked)\n",
    "    self.addnorm1 = AddAndNorm()\n",
    "    self.dropout2 = layers.Dropout(0.1)\n",
    "    \n",
    "    self.ff = FeedForward(d_model=d_model, d_ff=d_ff)\n",
    "    self.addnorm2 = AddAndNorm()    \n",
    "  \n",
    "  def call(self, inputs):\n",
    "    \"\"\"\n",
    "    Args:\n",
    "        query : embedding vector of dimension d_model\n",
    "        key (): \"\n",
    "        value (): \"\n",
    "    \"\"\"\n",
    "    attention = self.mh_att(inputs, inputs, inputs)\n",
    "    mid_ret = self.addnorm1(attention, inputs)\n",
    "    \n",
    "    ff_ret = self.ff(mid_ret)\n",
    "    ret = self.addnorm2(mid_ret, ff_ret)\n",
    "    \n",
    "    return ret"
   ]
  },
  {
   "cell_type": "markdown",
   "metadata": {},
   "source": [
    "## Positional Encoding\n",
    "\n",
    "$$\n",
    "PE_{(pos, 2i)} = sin(pos/10000^{2i/d_{\\text{model}}})\\\\\n",
    "PE_{(pos, 2i+1)} = cos(pos/10000^{2i/d_{\\text{model}}})\n",
    "$$\n",
    "\n",
    "https://velog.io/@glad415/Transformer-1.-%ED%8F%AC%EC%A7%80%EC%85%94%EB%84%90-%EC%9D%B8%EC%BD%94%EB%94%A9-by-WikiDocs"
   ]
  },
  {
   "cell_type": "code",
   "execution_count": 14,
   "metadata": {},
   "outputs": [],
   "source": [
    "def calculate_angle(pos, dim, d_model = 512):\n",
    "  return pos / (np.power(10000, (2*dim/d_model)))\n",
    "\n",
    "def positional_encoding(pos, d_model):\n",
    "  angle_rads = calculate_angle(\n",
    "    pos = np.arange(pos, dtype = np.float32)[:, np.newaxis],\n",
    "    dim = np.arange(d_model, dtype = np.float32)[np.newaxis, :],\n",
    "    d_model=d_model\n",
    "  )\n",
    "  \n",
    "  sines = np.sin(angle_rads[:, 0::2])\n",
    "  cosines = np.cos(angle_rads[:, 1::2])\n",
    "  angle_rads = np.zeros(angle_rads.shape)\n",
    "  angle_rads[:, 0::2] = sines\n",
    "  angle_rads[:, 1::2] = cosines\n",
    "  pos_encoding = angle_rads[np.newaxis, ...]\n",
    "  \n",
    "  return pos_encoding"
   ]
  },
  {
   "cell_type": "code",
   "execution_count": 15,
   "metadata": {},
   "outputs": [],
   "source": [
    "# Example usage:\n",
    "max_position = 50\n",
    "d_model = 128\n",
    "\n",
    "pos_encoding = positional_encoding(max_position, d_model)"
   ]
  },
  {
   "cell_type": "code",
   "execution_count": 16,
   "metadata": {},
   "outputs": [
    {
     "data": {
      "image/png": "[encoded data removed]",
      "text/plain": [
       "<Figure size 640x480 with 2 Axes>"
      ]
     },
     "metadata": {},
     "output_type": "display_data"
    }
   ],
   "source": [
    "plt.pcolormesh(pos_encoding[0], cmap='RdBu')\n",
    "plt.xlabel('Depth')\n",
    "plt.xlim((0, 128))\n",
    "plt.ylabel('Position')\n",
    "plt.colorbar()\n",
    "plt.show()"
   ]
  },
  {
   "cell_type": "markdown",
   "metadata": {},
   "source": [
    "## Embedding and Encoding"
   ]
  },
  {
   "cell_type": "code",
   "execution_count": 17,
   "metadata": {},
   "outputs": [],
   "source": [
    "class EmbedAndEncode(layers.Layer):\n",
    "  def __init__(self, seq_len, vocab_size, embed_dim, mask_zero=True):\n",
    "    super().__init__()\n",
    "    self.embed_layer = layers.Embedding(vocab_size, embed_dim, mask_zero=mask_zero)\n",
    "    self.pos_encode =  positional_encoding(seq_len, embed_dim)\n",
    "  def call(self, input):\n",
    "    embedded = self.embed_layer(input)\n",
    "    # print(f'embed_shape : {embedded.shape}')\n",
    "    # print(f'positional_encoding shape : {self.pos_encode.shape}')\n",
    "    # print(f'{embedded}')\n",
    "    ret = embedded + self.pos_encode # broadcast work!\n",
    "    # print(f'{embedded-self.pos_encode}')\n",
    "    return ret"
   ]
  },
  {
   "cell_type": "code",
   "execution_count": 18,
   "metadata": {},
   "outputs": [
    {
     "name": "stdout",
     "output_type": "stream",
     "text": [
      "Test Input:\n",
      "tf.Tensor(\n",
      "[[1 2 3 4 5]\n",
      " [5 4 3 2 1]], shape=(2, 5), dtype=int32)\n",
      "\n",
      "Embedded and Encoded Output:\n",
      "tf.Tensor(\n",
      "[[[-0.02318497  0.9640815  -0.04015485  0.95770705]\n",
      "  [ 0.8259397   0.9740322  -0.03652095  1.0494043 ]\n",
      "  [ 0.9391184   1.008082   -0.01005647  1.0099847 ]\n",
      "  [ 0.1429663   0.9939411  -0.02407384  1.0498643 ]\n",
      "  [-0.7097638   1.0250218   0.02413365  1.0057341 ]]\n",
      "\n",
      " [[ 0.04703865  1.0258217   0.02373365  1.0057341 ]\n",
      "  [ 0.84331733  0.9943411  -0.02427384  1.0498643 ]\n",
      "  [ 0.9391184   1.008082   -0.01005647  1.0099847 ]\n",
      "  [ 0.12558869  0.9736323  -0.03632095  1.0494043 ]\n",
      "  [-0.77998745  0.96328163 -0.03975485  0.95770705]]], shape=(2, 5, 4), dtype=float32)\n"
     ]
    }
   ],
   "source": [
    "# Test\n",
    "seq_len = 5\n",
    "vocab_size = 10\n",
    "embed_dim = 4\n",
    "\n",
    "# Create an instance of EmbedAndEncode\n",
    "embed_and_encode = EmbedAndEncode(seq_len, vocab_size, embed_dim)\n",
    "\n",
    "# Test input sequence (batch_size=2 for demonstration)\n",
    "test_input = tf.constant([[1, 2, 3, 4, 5], [5, 4, 3, 2, 1]])\n",
    "\n",
    "# Call the EmbedAndEncode layer\n",
    "output = embed_and_encode(test_input)\n",
    "\n",
    "# Display the results\n",
    "print(\"Test Input:\")\n",
    "print(test_input)\n",
    "print(\"\\nEmbedded and Encoded Output:\")\n",
    "print(output)"
   ]
  },
  {
   "cell_type": "markdown",
   "metadata": {},
   "source": [
    "# Simple Text Classification\n",
    "\n",
    "seq2seq모델이 아니기 때문에, 디코더를 사용하지 않았습니다. 구현도 시간이 없고...."
   ]
  },
  {
   "cell_type": "markdown",
   "metadata": {},
   "source": [
    "## Device Info"
   ]
  },
  {
   "cell_type": "code",
   "execution_count": 19,
   "metadata": {},
   "outputs": [
    {
     "name": "stdout",
     "output_type": "stream",
     "text": [
      "GPU Name: /device:GPU:0\n",
      "GPU Memory: 0.00 MB\n"
     ]
    },
    {
     "name": "stderr",
     "output_type": "stream",
     "text": [
      "2023-11-28 00:47:12.030918: I tensorflow/core/common_runtime/pluggable_device/pluggable_device_factory.cc:306] Could not identify NUMA node of platform GPU ID 0, defaulting to 0. Your kernel may not have been built with NUMA support.\n",
      "2023-11-28 00:47:12.030938: I tensorflow/core/common_runtime/pluggable_device/pluggable_device_factory.cc:272] Created TensorFlow device (/device:GPU:0 with 0 MB memory) -> physical PluggableDevice (device: 0, name: METAL, pci bus id: <undefined>)\n"
     ]
    }
   ],
   "source": [
    "from tensorflow.python.client import device_lib\n",
    "\n",
    "# 모든 장치의 정보 가져오기\n",
    "local_device_protos = device_lib.list_local_devices()\n",
    "\n",
    "# GPU 정보 출력\n",
    "for device in local_device_protos:\n",
    "    if device.device_type == \"GPU\":\n",
    "        print(\"GPU Name:\", device.name)\n",
    "        print(\"GPU Memory:\", f\"{device.memory_limit / (1024**2):.2f} MB\")"
   ]
  },
  {
   "cell_type": "markdown",
   "metadata": {},
   "source": [
    "## Define Model"
   ]
  },
  {
   "cell_type": "code",
   "execution_count": 20,
   "metadata": {},
   "outputs": [],
   "source": [
    "class ClassifierModel(models.Model):\n",
    "  def __init__(self, vocab_size, embed_dim=512, seq_len=512, \n",
    "               d_model=512, d_ff=2048, heads_num=8, \n",
    "               num_transformer_blocks = 3):\n",
    "    super().__init__()\n",
    "    self.input_layer = EmbedAndEncode(seq_len=seq_len, vocab_size=vocab_size,embed_dim=embed_dim)\n",
    "    \n",
    "    self.encoder = [TransformerEncodeLayer(d_model=d_model,d_ff=d_ff,heads_num=heads_num) for _ in range(num_transformer_blocks)]\n",
    "    \n",
    "    self.pooling = layers.GlobalAveragePooling1D()\n",
    "  \n",
    "    self.fc = layers.Dense(32, activation = 'relu')\n",
    "        \n",
    "    self.ouput_layer = layers.Dense(2, activation = 'softmax')\n",
    "    \n",
    "  def call(self, inputs):\n",
    "    x =  self.input_layer(inputs)\n",
    "\n",
    "    for encode_layer in self.encoder:\n",
    "      x = encode_layer(x)\n",
    "    \n",
    "    x = self.pooling(x)\n",
    "    \n",
    "    x = self.fc(x)\n",
    "    \n",
    "    output = self.ouput_layer(x)\n",
    "    \n",
    "    return output\n",
    "  \n",
    "  def plot(self, input_shape):\n",
    "    x = layers.Input(input_shape)\n",
    "    y = self.call(x)\n",
    "    model = models.Model(inputs = x, outputs = y)\n",
    "    return tf.keras.utils.plot_model(model, show_shapes=True)"
   ]
  },
  {
   "cell_type": "markdown",
   "metadata": {},
   "source": [
    "## Data"
   ]
  },
  {
   "cell_type": "code",
   "execution_count": 23,
   "metadata": {},
   "outputs": [],
   "source": [
    "import pandas as pd\n",
    "import numpy as np\n",
    "import tensorflow as tf\n",
    "import matplotlib.pyplot as plt\n",
    "import seaborn as sb\n",
    "from collections import Counter\n",
    "from sklearn.model_selection import train_test_split\n",
    "\n",
    "from konlpy.tag import Komoran"
   ]
  },
  {
   "cell_type": "code",
   "execution_count": 24,
   "metadata": {},
   "outputs": [
    {
     "name": "stdout",
     "output_type": "stream",
     "text": [
      "train_data = (150000, 3)\n",
      "test_data = (50000, 3)\n"
     ]
    }
   ],
   "source": [
    "train_data = pd.read_table(\"./data/ratings_train.txt\")\n",
    "test_data = pd.read_table(\"./data/ratings_test.txt\")\n",
    "\n",
    "print(\"train_data =\", train_data.shape)\n",
    "print(\"test_data =\", test_data.shape)"
   ]
  },
  {
   "cell_type": "code",
   "execution_count": 25,
   "metadata": {},
   "outputs": [
    {
     "name": "stderr",
     "output_type": "stream",
     "text": [
      "/opt/homebrew/Caskroom/miniconda/base/envs/tensorflow_env/lib/python3.11/site-packages/seaborn/_oldcore.py:1498: FutureWarning: is_categorical_dtype is deprecated and will be removed in a future version. Use isinstance(dtype, CategoricalDtype) instead\n",
      "  if pd.api.types.is_categorical_dtype(vector):\n",
      "/opt/homebrew/Caskroom/miniconda/base/envs/tensorflow_env/lib/python3.11/site-packages/seaborn/_oldcore.py:1498: FutureWarning: is_categorical_dtype is deprecated and will be removed in a future version. Use isinstance(dtype, CategoricalDtype) instead\n",
      "  if pd.api.types.is_categorical_dtype(vector):\n",
      "/opt/homebrew/Caskroom/miniconda/base/envs/tensorflow_env/lib/python3.11/site-packages/seaborn/_oldcore.py:1498: FutureWarning: is_categorical_dtype is deprecated and will be removed in a future version. Use isinstance(dtype, CategoricalDtype) instead\n",
      "  if pd.api.types.is_categorical_dtype(vector):\n"
     ]
    },
    {
     "data": {
      "image/png": "[encoded data removed]",
      "text/plain": [
       "<Figure size 640x480 with 1 Axes>"
      ]
     },
     "metadata": {},
     "output_type": "display_data"
    }
   ],
   "source": [
    "sb.set_theme(style=\"darkgrid\")\n",
    "graph = sb.countplot(x=\"label\", data = train_data)"
   ]
  },
  {
   "cell_type": "code",
   "execution_count": 26,
   "metadata": {},
   "outputs": [],
   "source": [
    "tokenizer = Komoran()\n",
    "\n",
    "def PreProcess(train_data, test_data):\n",
    "  train_data.drop_duplicates(subset=[\"document\"], inplace = True)\n",
    "  test_data.drop_duplicates(subset=[\"document\"], inplace = True)\n",
    "  train_data = train_data.dropna()\n",
    "  test_data = test_data.dropna()\n",
    "  print(\"train shape =\", train_data.shape)\n",
    "  print(\"test shape =\", test_data.shape)\n",
    "  train_tokenized = [[token+\"/\"+POS for token, POS in tokenizer.pos(doc_)] for doc_ in train_data['document']]\n",
    "  test_tokenized = [[token+\"/\"+POS for token, POS in tokenizer.pos(doc_)] for doc_ in test_data['document']]\n",
    "\n",
    "  exclusion_tags = ['JKS', 'JKC', 'JKG', 'JKO', 'JKB', 'JKV', 'JKQ', 'JX', 'JC',\n",
    "                    'SF', 'SP', 'SS', 'SE', 'SO', 'EF', 'EP', 'EC', 'ETN', 'ETM',\n",
    "                    'XSN', 'XSV', 'XSA']\n",
    "\n",
    "  f = lambda x: x in exclusion_tags\n",
    "\n",
    "  X_train = []\n",
    "  for i in range(len(train_tokenized)):\n",
    "      temp = []\n",
    "      for j in range(len(train_tokenized[i])):\n",
    "          if f(train_tokenized[i][j].split('/')[1]) is False:\n",
    "              temp.append(train_tokenized[i][j].split('/')[0])\n",
    "      X_train.append(temp)\n",
    "\n",
    "  X_test = []\n",
    "  for i in range(len(test_tokenized)):\n",
    "      temp = []\n",
    "      for j in range(len(test_tokenized[i])):\n",
    "          if f(test_tokenized[i][j].split('/')[1]) is False:\n",
    "              temp.append(test_tokenized[i][j].split('/')[0])\n",
    "      X_test.append(temp)\n",
    "\n",
    "  words = np.concatenate(X_train).tolist()\n",
    "  counter = Counter(words)\n",
    "  counter = counter.most_common(30000-4)\n",
    "  vocab = ['<PAD>', '<BOS>', '<UNK>', '<UNUSED>'] + [key for key, _ in counter]\n",
    "  word_to_index = {word:index for index, word in enumerate(vocab)}\n",
    "\n",
    "  def wordlist_to_indexlist(wordlist):\n",
    "      return [word_to_index[word] if word in word_to_index else word_to_index['<UNK>'] for word in wordlist]\n",
    "\n",
    "  X_train = list(map(wordlist_to_indexlist, X_train))\n",
    "  X_test = list(map(wordlist_to_indexlist, X_test))\n",
    "\n",
    "  return X_train, np.array(list(train_data['label'])), X_test, np.array(list(test_data['label'])), word_to_index"
   ]
  },
  {
   "cell_type": "code",
   "execution_count": 27,
   "metadata": {},
   "outputs": [
    {
     "name": "stdout",
     "output_type": "stream",
     "text": [
      "train shape = (146182, 3)\n",
      "test shape = (49157, 3)\n"
     ]
    }
   ],
   "source": [
    "X_train, y_train, X_test, y_test, word_to_index = PreProcess(train_data, test_data)\n",
    "index_to_word = {index:word for word, index in word_to_index.items()}"
   ]
  },
  {
   "cell_type": "code",
   "execution_count": 28,
   "metadata": {},
   "outputs": [
    {
     "name": "stdout",
     "output_type": "stream",
     "text": [
      "최대 길이 : 28\n"
     ]
    }
   ],
   "source": [
    "all_data = list(X_train)+list(X_test)\n",
    "\n",
    "num_tokens = [len(tokens) for tokens in all_data]\n",
    "num_tokens = np.array(num_tokens)\n",
    "max_tokens = np.mean(num_tokens) + 2 * np.std(num_tokens)\n",
    "maxlen = int(max_tokens)\n",
    "print(\"최대 길이 :\", maxlen)\n",
    "\n",
    "X_train = tf.keras.preprocessing.sequence.pad_sequences(X_train,\n",
    "                                                       padding='pre',\n",
    "                                                       value=word_to_index[\"<PAD>\"],\n",
    "                                                       maxlen=70)\n",
    "\n",
    "X_test = tf.keras.preprocessing.sequence.pad_sequences(X_test,\n",
    "                                                       padding='pre',\n",
    "                                                       value=word_to_index[\"<PAD>\"],\n",
    "                                                       maxlen=70)"
   ]
  },
  {
   "cell_type": "code",
   "execution_count": 29,
   "metadata": {},
   "outputs": [
    {
     "data": {
      "text/plain": [
       "((146182, 70), (49157, 70))"
      ]
     },
     "execution_count": 29,
     "metadata": {},
     "output_type": "execute_result"
    }
   ],
   "source": [
    "X_train.shape, X_test.shape"
   ]
  },
  {
   "cell_type": "markdown",
   "metadata": {},
   "source": [
    "## HyperParameter"
   ]
  },
  {
   "cell_type": "code",
   "execution_count": 47,
   "metadata": {},
   "outputs": [],
   "source": [
    "seq_len = X_train.shape[-1]\n",
    "embed_dim=32\n",
    "d_model=32\n",
    "d_ff=32\n",
    "heads_num=2\n",
    "num_transformer_blocks = 1\n",
    "\n",
    "learning_rate = 1e-3"
   ]
  },
  {
   "cell_type": "markdown",
   "metadata": {},
   "source": [
    "## Running"
   ]
  },
  {
   "cell_type": "code",
   "execution_count": 49,
   "metadata": {},
   "outputs": [],
   "source": [
    "model = ClassifierModel(vocab_size=vocab_size, embed_dim=embed_dim, seq_len=seq_len, \n",
    "                        d_model=d_model, d_ff=d_ff, heads_num=heads_num, \n",
    "                        num_transformer_blocks = num_transformer_blocks)\n",
    "optim = optimizers.legacy.Adam(learning_rate=learning_rate)\n",
    "model.compile(optimizer=optim, loss='sparse_categorical_crossentropy', metrics=['accuracy'])\n",
    "\n",
    "class LossHistory(tf.keras.callbacks.Callback):\n",
    "  def on_train_begin(self, logs={}):\n",
    "    self.losses = []\n",
    "    self.accuracies = []\n",
    "    self.val_losses = []\n",
    "    self.val_accuracies = []\n",
    "  def on_batch_end(self, batch, logs={}):\n",
    "    self.losses.append(logs.get('loss'))\n",
    "    self.accuracies.append(logs.get('accuracy'))\n",
    "    self.val_losses.append(logs.get('val_loss'))\n",
    "    self.val_accuracies.append(logs.get('val_accuracy'))"
   ]
  },
  {
   "cell_type": "code",
   "execution_count": 50,
   "metadata": {},
   "outputs": [],
   "source": [
    "tf.keras.backend.clear_session()"
   ]
  },
  {
   "cell_type": "code",
   "execution_count": 51,
   "metadata": {},
   "outputs": [
    {
     "name": "stdout",
     "output_type": "stream",
     "text": [
      "Epoch 1/10\n",
      "1143/1143 [==============================] - 76s 64ms/step - loss: 0.6891 - accuracy: 0.5254 - val_loss: 0.6775 - val_accuracy: 0.5665\n",
      "Epoch 2/10\n",
      "1143/1143 [==============================] - 62s 55ms/step - loss: 0.6790 - accuracy: 0.5581 - val_loss: 0.6802 - val_accuracy: 0.5648\n",
      "Epoch 3/10\n",
      "1143/1143 [==============================] - 62s 54ms/step - loss: 0.6780 - accuracy: 0.5599 - val_loss: 0.6766 - val_accuracy: 0.5670\n",
      "Epoch 4/10\n",
      "1143/1143 [==============================] - 61s 54ms/step - loss: 0.6782 - accuracy: 0.5603 - val_loss: 0.6770 - val_accuracy: 0.5642\n",
      "Epoch 5/10\n",
      "1143/1143 [==============================] - 63s 55ms/step - loss: 0.6789 - accuracy: 0.5608 - val_loss: 0.6948 - val_accuracy: 0.5370\n",
      "Epoch 6/10\n",
      "1143/1143 [==============================] - 63s 55ms/step - loss: 0.6813 - accuracy: 0.5536 - val_loss: 0.6771 - val_accuracy: 0.5666\n",
      "Epoch 7/10\n",
      "1143/1143 [==============================] - 64s 56ms/step - loss: 0.6818 - accuracy: 0.5535 - val_loss: 0.6789 - val_accuracy: 0.5659\n",
      "Epoch 8/10\n",
      "1143/1143 [==============================] - 69s 61ms/step - loss: 0.6818 - accuracy: 0.5525 - val_loss: 0.6812 - val_accuracy: 0.5541\n",
      "Epoch 9/10\n",
      "1143/1143 [==============================] - 93s 81ms/step - loss: 0.6831 - accuracy: 0.5509 - val_loss: 0.6779 - val_accuracy: 0.5686\n",
      "Epoch 10/10\n",
      "1143/1143 [==============================] - 99s 87ms/step - loss: 0.6815 - accuracy: 0.5560 - val_loss: 0.6799 - val_accuracy: 0.5669\n"
     ]
    }
   ],
   "source": [
    "from tensorflow.keras.callbacks import EarlyStopping\n",
    "\n",
    "tf.keras.backend.clear_session()\n",
    "early_stopping = EarlyStopping(patience=2)\n",
    "custom_hist = LossHistory() \n",
    "hist = model.fit(X_train, y_train, epochs=10, batch_size = 128, \n",
    "                 validation_data=(X_test, y_test), callbacks=[custom_hist])\n"
   ]
  },
  {
   "cell_type": "markdown",
   "metadata": {},
   "source": [
    "# Hyperparam Optimization"
   ]
  },
  {
   "cell_type": "code",
   "execution_count": 37,
   "metadata": {},
   "outputs": [],
   "source": [
    "import keras_tuner as kt"
   ]
  },
  {
   "cell_type": "code",
   "execution_count": 39,
   "metadata": {},
   "outputs": [],
   "source": [
    "def build_model(hp):\n",
    "  embed_dim = hp.Choice('embed_dim', [32, 64, 128, 256, 512])\n",
    "  d_ff = hp.Choice('d_ff', [32, 64, 128, 256, 512, 1024, 2048])\n",
    "  heads_num = hp.Choice('heads_num', [2, 4, 8])\n",
    "  num_transformer_blocks = hp.Choice('num_transformer_blocks', [1, 2, 3])\n",
    "  learning_rate = hp.Choice('learning_rate', [1e-3, 1e-4])\n",
    "  \n",
    "  d_model = embed_dim\n",
    "  \n",
    "  model = ClassifierModel(vocab_size=vocab_size, embed_dim=embed_dim, seq_len=seq_len, \n",
    "                        d_model=d_model, d_ff=d_ff, heads_num=heads_num, \n",
    "                        num_transformer_blocks = num_transformer_blocks)\n",
    "  optim = optimizers.legacy.Adam(learning_rate=learning_rate)\n",
    "  model.compile(optimizer=optim, loss='sparse_categorical_crossentropy', metrics=['accuracy'])\n",
    "  return model"
   ]
  },
  {
   "cell_type": "code",
   "execution_count": 44,
   "metadata": {},
   "outputs": [],
   "source": [
    "tuner = kt.Hyperband(\n",
    "    build_model,\n",
    "    objective='val_accuracy',\n",
    "    max_epochs = 10,\n",
    "    project_name = 'movie_review_classifier',\n",
    "    overwrite=True, directory = 'search')"
   ]
  },
  {
   "cell_type": "code",
   "execution_count": 52,
   "metadata": {},
   "outputs": [
    {
     "name": "stdout",
     "output_type": "stream",
     "text": [
      "Trial 3 Complete [00h 22m 44s]\n",
      "val_accuracy: 0.5026954412460327\n",
      "\n",
      "Best val_accuracy So Far: 0.5684439539909363\n",
      "Total elapsed time: 00h 29m 05s\n",
      "\n",
      "Search: Running Trial #4\n",
      "\n",
      "Value             |Best Value So Far |Hyperparameter\n",
      "32                |128               |embed_dim\n",
      "2048              |1024              |d_ff\n",
      "8                 |2                 |heads_num\n",
      "1                 |1                 |num_transformer_blocks\n",
      "0.001             |0.001             |learning_rate\n",
      "2                 |2                 |tuner/epochs\n",
      "0                 |0                 |tuner/initial_epoch\n",
      "2                 |2                 |tuner/bracket\n",
      "0                 |0                 |tuner/round\n",
      "\n",
      "Epoch 1/2\n",
      "1143/1143 [==============================] - 214s 179ms/step - loss: 0.6889 - accuracy: 0.5309 - val_loss: 0.6771 - val_accuracy: 0.5663\n",
      "Epoch 2/2\n",
      " 624/1143 [===============>..............] - ETA: 1:43 - loss: 0.6794 - accuracy: 0.5575"
     ]
    }
   ],
   "source": [
    "tuner.search(X_train, y_train, epochs = 10, batch_size = 128, \n",
    "             validation_data=(X_test, y_test))"
   ]
  },
  {
   "cell_type": "code",
   "execution_count": 35,
   "metadata": {},
   "outputs": [
    {
     "name": "stderr",
     "output_type": "stream",
     "text": [
      "/var/folders/8k/l_bm1gs94r72gg6w58d8xc2m0000gn/T/ipykernel_82659/3979735123.py:16: DeprecationWarning: KerasClassifier is deprecated, use Sci-Keras (https://github.com/adriangb/scikeras) instead. See https://www.adriangb.com/scikeras/stable/migration.html for help migrating.\n",
      "  model = KerasClassifier(build_fn=create_model, epochs=10, batch_size=128, verbose=0)\n"
     ]
    },
    {
     "ename": "ValueError",
     "evalue": "\nAll the 60 fits failed.\nIt is very likely that your model is misconfigured.\nYou can try to debug the error by setting error_score='raise'.\n\nBelow are more details about the failures:\n--------------------------------------------------------------------------------\n60 fits failed with the following error:\nTraceback (most recent call last):\n  File \"/opt/homebrew/Caskroom/miniconda/base/envs/tensorflow_env/lib/python3.11/site-packages/sklearn/model_selection/_validation.py\", line 732, in _fit_and_score\n    estimator.fit(X_train, y_train, **fit_params)\n  File \"/opt/homebrew/Caskroom/miniconda/base/envs/tensorflow_env/lib/python3.11/site-packages/keras/wrappers/scikit_learn.py\", line 248, in fit\n    return super().fit(x, y, **kwargs)\n           ^^^^^^^^^^^^^^^^^^^^^^^^^^^\n  File \"/opt/homebrew/Caskroom/miniconda/base/envs/tensorflow_env/lib/python3.11/site-packages/keras/wrappers/scikit_learn.py\", line 167, in fit\n    losses.is_categorical_crossentropy(self.model.loss)\n    ^^^^^^^^^^^^^^^^^^^^^^^^^^^^^^^^^^\nAttributeError: module 'keras.losses' has no attribute 'is_categorical_crossentropy'\n",
     "output_type": "error",
     "traceback": [
      "\u001b[0;31m---------------------------------------------------------------------------\u001b[0m",
      "\u001b[0;31mValueError\u001b[0m                                Traceback (most recent call last)",
      "\u001b[1;32m/Users/junheejang/school/3-2/기계학습기초/team_project/transformer_movie.ipynb 셀 48\u001b[0m line \u001b[0;36m2\n\u001b[1;32m     <a href='vscode-notebook-cell:/Users/junheejang/school/3-2/%E1%84%80%E1%85%B5%E1%84%80%E1%85%A8%E1%84%92%E1%85%A1%E1%86%A8%E1%84%89%E1%85%B3%E1%86%B8%E1%84%80%E1%85%B5%E1%84%8E%E1%85%A9/team_project/transformer_movie.ipynb#X65sZmlsZQ%3D%3D?line=17'>18</a>\u001b[0m param_grid \u001b[39m=\u001b[39m {\n\u001b[1;32m     <a href='vscode-notebook-cell:/Users/junheejang/school/3-2/%E1%84%80%E1%85%B5%E1%84%80%E1%85%A8%E1%84%92%E1%85%A1%E1%86%A8%E1%84%89%E1%85%B3%E1%86%B8%E1%84%80%E1%85%B5%E1%84%8E%E1%85%A9/team_project/transformer_movie.ipynb#X65sZmlsZQ%3D%3D?line=18'>19</a>\u001b[0m   \u001b[39m'\u001b[39m\u001b[39membed_dim\u001b[39m\u001b[39m'\u001b[39m : [\u001b[39m32\u001b[39m, \u001b[39m64\u001b[39m, \u001b[39m128\u001b[39m, \u001b[39m256\u001b[39m, \u001b[39m512\u001b[39m],\n\u001b[1;32m     <a href='vscode-notebook-cell:/Users/junheejang/school/3-2/%E1%84%80%E1%85%B5%E1%84%80%E1%85%A8%E1%84%92%E1%85%A1%E1%86%A8%E1%84%89%E1%85%B3%E1%86%B8%E1%84%80%E1%85%B5%E1%84%8E%E1%85%A9/team_project/transformer_movie.ipynb#X65sZmlsZQ%3D%3D?line=19'>20</a>\u001b[0m   \u001b[39m'\u001b[39m\u001b[39md_ff\u001b[39m\u001b[39m'\u001b[39m : [\u001b[39m32\u001b[39m, \u001b[39m64\u001b[39m, \u001b[39m128\u001b[39m, \u001b[39m256\u001b[39m, \u001b[39m512\u001b[39m, \u001b[39m1024\u001b[39m, \u001b[39m2048\u001b[39m],\n\u001b[0;32m   (...)\u001b[0m\n\u001b[1;32m     <a href='vscode-notebook-cell:/Users/junheejang/school/3-2/%E1%84%80%E1%85%B5%E1%84%80%E1%85%A8%E1%84%92%E1%85%A1%E1%86%A8%E1%84%89%E1%85%B3%E1%86%B8%E1%84%80%E1%85%B5%E1%84%8E%E1%85%A9/team_project/transformer_movie.ipynb#X65sZmlsZQ%3D%3D?line=22'>23</a>\u001b[0m   \u001b[39m'\u001b[39m\u001b[39mlearning_rate\u001b[39m\u001b[39m'\u001b[39m: [\u001b[39m1e-3\u001b[39m, \u001b[39m1e-4\u001b[39m]\n\u001b[1;32m     <a href='vscode-notebook-cell:/Users/junheejang/school/3-2/%E1%84%80%E1%85%B5%E1%84%80%E1%85%A8%E1%84%92%E1%85%A1%E1%86%A8%E1%84%89%E1%85%B3%E1%86%B8%E1%84%80%E1%85%B5%E1%84%8E%E1%85%A9/team_project/transformer_movie.ipynb#X65sZmlsZQ%3D%3D?line=23'>24</a>\u001b[0m }\n\u001b[1;32m     <a href='vscode-notebook-cell:/Users/junheejang/school/3-2/%E1%84%80%E1%85%B5%E1%84%80%E1%85%A8%E1%84%92%E1%85%A1%E1%86%A8%E1%84%89%E1%85%B3%E1%86%B8%E1%84%80%E1%85%B5%E1%84%8E%E1%85%A9/team_project/transformer_movie.ipynb#X65sZmlsZQ%3D%3D?line=25'>26</a>\u001b[0m tuner \u001b[39m=\u001b[39m RandomizedSearchCV(model, param_grid, n_iter \u001b[39m=\u001b[39m \u001b[39m20\u001b[39m, cv \u001b[39m=\u001b[39m \u001b[39m3\u001b[39m)\n\u001b[0;32m---> <a href='vscode-notebook-cell:/Users/junheejang/school/3-2/%E1%84%80%E1%85%B5%E1%84%80%E1%85%A8%E1%84%92%E1%85%A1%E1%86%A8%E1%84%89%E1%85%B3%E1%86%B8%E1%84%80%E1%85%B5%E1%84%8E%E1%85%A9/team_project/transformer_movie.ipynb#X65sZmlsZQ%3D%3D?line=26'>27</a>\u001b[0m random_result \u001b[39m=\u001b[39m tuner\u001b[39m.\u001b[39mfit(X_train, y_train)\n",
      "File \u001b[0;32m/opt/homebrew/Caskroom/miniconda/base/envs/tensorflow_env/lib/python3.11/site-packages/sklearn/base.py:1151\u001b[0m, in \u001b[0;36m_fit_context.<locals>.decorator.<locals>.wrapper\u001b[0;34m(estimator, *args, **kwargs)\u001b[0m\n\u001b[1;32m   1144\u001b[0m     estimator\u001b[39m.\u001b[39m_validate_params()\n\u001b[1;32m   1146\u001b[0m \u001b[39mwith\u001b[39;00m config_context(\n\u001b[1;32m   1147\u001b[0m     skip_parameter_validation\u001b[39m=\u001b[39m(\n\u001b[1;32m   1148\u001b[0m         prefer_skip_nested_validation \u001b[39mor\u001b[39;00m global_skip_validation\n\u001b[1;32m   1149\u001b[0m     )\n\u001b[1;32m   1150\u001b[0m ):\n\u001b[0;32m-> 1151\u001b[0m     \u001b[39mreturn\u001b[39;00m fit_method(estimator, \u001b[39m*\u001b[39margs, \u001b[39m*\u001b[39m\u001b[39m*\u001b[39mkwargs)\n",
      "File \u001b[0;32m/opt/homebrew/Caskroom/miniconda/base/envs/tensorflow_env/lib/python3.11/site-packages/sklearn/model_selection/_search.py:898\u001b[0m, in \u001b[0;36mBaseSearchCV.fit\u001b[0;34m(self, X, y, groups, **fit_params)\u001b[0m\n\u001b[1;32m    892\u001b[0m     results \u001b[39m=\u001b[39m \u001b[39mself\u001b[39m\u001b[39m.\u001b[39m_format_results(\n\u001b[1;32m    893\u001b[0m         all_candidate_params, n_splits, all_out, all_more_results\n\u001b[1;32m    894\u001b[0m     )\n\u001b[1;32m    896\u001b[0m     \u001b[39mreturn\u001b[39;00m results\n\u001b[0;32m--> 898\u001b[0m \u001b[39mself\u001b[39m\u001b[39m.\u001b[39m_run_search(evaluate_candidates)\n\u001b[1;32m    900\u001b[0m \u001b[39m# multimetric is determined here because in the case of a callable\u001b[39;00m\n\u001b[1;32m    901\u001b[0m \u001b[39m# self.scoring the return type is only known after calling\u001b[39;00m\n\u001b[1;32m    902\u001b[0m first_test_score \u001b[39m=\u001b[39m all_out[\u001b[39m0\u001b[39m][\u001b[39m\"\u001b[39m\u001b[39mtest_scores\u001b[39m\u001b[39m\"\u001b[39m]\n",
      "File \u001b[0;32m/opt/homebrew/Caskroom/miniconda/base/envs/tensorflow_env/lib/python3.11/site-packages/sklearn/model_selection/_search.py:1806\u001b[0m, in \u001b[0;36mRandomizedSearchCV._run_search\u001b[0;34m(self, evaluate_candidates)\u001b[0m\n\u001b[1;32m   1804\u001b[0m \u001b[39mdef\u001b[39;00m \u001b[39m_run_search\u001b[39m(\u001b[39mself\u001b[39m, evaluate_candidates):\n\u001b[1;32m   1805\u001b[0m \u001b[39m    \u001b[39m\u001b[39m\"\"\"Search n_iter candidates from param_distributions\"\"\"\u001b[39;00m\n\u001b[0;32m-> 1806\u001b[0m     evaluate_candidates(\n\u001b[1;32m   1807\u001b[0m         ParameterSampler(\n\u001b[1;32m   1808\u001b[0m             \u001b[39mself\u001b[39m\u001b[39m.\u001b[39mparam_distributions, \u001b[39mself\u001b[39m\u001b[39m.\u001b[39mn_iter, random_state\u001b[39m=\u001b[39m\u001b[39mself\u001b[39m\u001b[39m.\u001b[39mrandom_state\n\u001b[1;32m   1809\u001b[0m         )\n\u001b[1;32m   1810\u001b[0m     )\n",
      "File \u001b[0;32m/opt/homebrew/Caskroom/miniconda/base/envs/tensorflow_env/lib/python3.11/site-packages/sklearn/model_selection/_search.py:875\u001b[0m, in \u001b[0;36mBaseSearchCV.fit.<locals>.evaluate_candidates\u001b[0;34m(candidate_params, cv, more_results)\u001b[0m\n\u001b[1;32m    868\u001b[0m \u001b[39melif\u001b[39;00m \u001b[39mlen\u001b[39m(out) \u001b[39m!=\u001b[39m n_candidates \u001b[39m*\u001b[39m n_splits:\n\u001b[1;32m    869\u001b[0m     \u001b[39mraise\u001b[39;00m \u001b[39mValueError\u001b[39;00m(\n\u001b[1;32m    870\u001b[0m         \u001b[39m\"\u001b[39m\u001b[39mcv.split and cv.get_n_splits returned \u001b[39m\u001b[39m\"\u001b[39m\n\u001b[1;32m    871\u001b[0m         \u001b[39m\"\u001b[39m\u001b[39minconsistent results. Expected \u001b[39m\u001b[39m{}\u001b[39;00m\u001b[39m \u001b[39m\u001b[39m\"\u001b[39m\n\u001b[1;32m    872\u001b[0m         \u001b[39m\"\u001b[39m\u001b[39msplits, got \u001b[39m\u001b[39m{}\u001b[39;00m\u001b[39m\"\u001b[39m\u001b[39m.\u001b[39mformat(n_splits, \u001b[39mlen\u001b[39m(out) \u001b[39m/\u001b[39m\u001b[39m/\u001b[39m n_candidates)\n\u001b[1;32m    873\u001b[0m     )\n\u001b[0;32m--> 875\u001b[0m _warn_or_raise_about_fit_failures(out, \u001b[39mself\u001b[39m\u001b[39m.\u001b[39merror_score)\n\u001b[1;32m    877\u001b[0m \u001b[39m# For callable self.scoring, the return type is only know after\u001b[39;00m\n\u001b[1;32m    878\u001b[0m \u001b[39m# calling. If the return type is a dictionary, the error scores\u001b[39;00m\n\u001b[1;32m    879\u001b[0m \u001b[39m# can now be inserted with the correct key. The type checking\u001b[39;00m\n\u001b[1;32m    880\u001b[0m \u001b[39m# of out will be done in `_insert_error_scores`.\u001b[39;00m\n\u001b[1;32m    881\u001b[0m \u001b[39mif\u001b[39;00m \u001b[39mcallable\u001b[39m(\u001b[39mself\u001b[39m\u001b[39m.\u001b[39mscoring):\n",
      "File \u001b[0;32m/opt/homebrew/Caskroom/miniconda/base/envs/tensorflow_env/lib/python3.11/site-packages/sklearn/model_selection/_validation.py:414\u001b[0m, in \u001b[0;36m_warn_or_raise_about_fit_failures\u001b[0;34m(results, error_score)\u001b[0m\n\u001b[1;32m    407\u001b[0m \u001b[39mif\u001b[39;00m num_failed_fits \u001b[39m==\u001b[39m num_fits:\n\u001b[1;32m    408\u001b[0m     all_fits_failed_message \u001b[39m=\u001b[39m (\n\u001b[1;32m    409\u001b[0m         \u001b[39mf\u001b[39m\u001b[39m\"\u001b[39m\u001b[39m\\n\u001b[39;00m\u001b[39mAll the \u001b[39m\u001b[39m{\u001b[39;00mnum_fits\u001b[39m}\u001b[39;00m\u001b[39m fits failed.\u001b[39m\u001b[39m\\n\u001b[39;00m\u001b[39m\"\u001b[39m\n\u001b[1;32m    410\u001b[0m         \u001b[39m\"\u001b[39m\u001b[39mIt is very likely that your model is misconfigured.\u001b[39m\u001b[39m\\n\u001b[39;00m\u001b[39m\"\u001b[39m\n\u001b[1;32m    411\u001b[0m         \u001b[39m\"\u001b[39m\u001b[39mYou can try to debug the error by setting error_score=\u001b[39m\u001b[39m'\u001b[39m\u001b[39mraise\u001b[39m\u001b[39m'\u001b[39m\u001b[39m.\u001b[39m\u001b[39m\\n\u001b[39;00m\u001b[39m\\n\u001b[39;00m\u001b[39m\"\u001b[39m\n\u001b[1;32m    412\u001b[0m         \u001b[39mf\u001b[39m\u001b[39m\"\u001b[39m\u001b[39mBelow are more details about the failures:\u001b[39m\u001b[39m\\n\u001b[39;00m\u001b[39m{\u001b[39;00mfit_errors_summary\u001b[39m}\u001b[39;00m\u001b[39m\"\u001b[39m\n\u001b[1;32m    413\u001b[0m     )\n\u001b[0;32m--> 414\u001b[0m     \u001b[39mraise\u001b[39;00m \u001b[39mValueError\u001b[39;00m(all_fits_failed_message)\n\u001b[1;32m    416\u001b[0m \u001b[39melse\u001b[39;00m:\n\u001b[1;32m    417\u001b[0m     some_fits_failed_message \u001b[39m=\u001b[39m (\n\u001b[1;32m    418\u001b[0m         \u001b[39mf\u001b[39m\u001b[39m\"\u001b[39m\u001b[39m\\n\u001b[39;00m\u001b[39m{\u001b[39;00mnum_failed_fits\u001b[39m}\u001b[39;00m\u001b[39m fits failed out of a total of \u001b[39m\u001b[39m{\u001b[39;00mnum_fits\u001b[39m}\u001b[39;00m\u001b[39m.\u001b[39m\u001b[39m\\n\u001b[39;00m\u001b[39m\"\u001b[39m\n\u001b[1;32m    419\u001b[0m         \u001b[39m\"\u001b[39m\u001b[39mThe score on these train-test partitions for these parameters\u001b[39m\u001b[39m\"\u001b[39m\n\u001b[0;32m   (...)\u001b[0m\n\u001b[1;32m    423\u001b[0m         \u001b[39mf\u001b[39m\u001b[39m\"\u001b[39m\u001b[39mBelow are more details about the failures:\u001b[39m\u001b[39m\\n\u001b[39;00m\u001b[39m{\u001b[39;00mfit_errors_summary\u001b[39m}\u001b[39;00m\u001b[39m\"\u001b[39m\n\u001b[1;32m    424\u001b[0m     )\n",
      "\u001b[0;31mValueError\u001b[0m: \nAll the 60 fits failed.\nIt is very likely that your model is misconfigured.\nYou can try to debug the error by setting error_score='raise'.\n\nBelow are more details about the failures:\n--------------------------------------------------------------------------------\n60 fits failed with the following error:\nTraceback (most recent call last):\n  File \"/opt/homebrew/Caskroom/miniconda/base/envs/tensorflow_env/lib/python3.11/site-packages/sklearn/model_selection/_validation.py\", line 732, in _fit_and_score\n    estimator.fit(X_train, y_train, **fit_params)\n  File \"/opt/homebrew/Caskroom/miniconda/base/envs/tensorflow_env/lib/python3.11/site-packages/keras/wrappers/scikit_learn.py\", line 248, in fit\n    return super().fit(x, y, **kwargs)\n           ^^^^^^^^^^^^^^^^^^^^^^^^^^^\n  File \"/opt/homebrew/Caskroom/miniconda/base/envs/tensorflow_env/lib/python3.11/site-packages/keras/wrappers/scikit_learn.py\", line 167, in fit\n    losses.is_categorical_crossentropy(self.model.loss)\n    ^^^^^^^^^^^^^^^^^^^^^^^^^^^^^^^^^^\nAttributeError: module 'keras.losses' has no attribute 'is_categorical_crossentropy'\n"
     ]
    }
   ],
   "source": [
    "from sklearn.model_selection import GridSearchCV, RandomizedSearchCV\n",
    "from tensorflow.keras.wrappers.scikit_learn import KerasClassifier\n",
    "\n",
    "def create_model(embed_dim=512, d_ff = 2048, heads_num = 8, num_transformer_blocks = 1,\n",
    "                 learning_rate = 1e-3):\n",
    "  seq_len = 70\n",
    "  d_model=embed_dim\n",
    "\n",
    "  model = ClassifierModel(vocab_size=vocab_size, embed_dim=embed_dim, seq_len=seq_len, \n",
    "                        d_model=d_model, d_ff=d_ff, heads_num=heads_num, \n",
    "                        num_transformer_blocks = num_transformer_blocks)\n",
    "  optim = optimizers.legacy.Adam(learning_rate=learning_rate)\n",
    "  model.compile(optimizer=optim, loss='sparse_categorical_crossentropy', metrics=['accuracy'])\n",
    "  return model\n",
    "\n",
    "model = KerasClassifier(build_fn=create_model, epochs=10, batch_size=128, verbose=0)\n",
    "\n",
    "param_grid = {\n",
    "  'embed_dim' : [32, 64, 128, 256, 512],\n",
    "  'd_ff' : [32, 64, 128, 256, 512, 1024, 2048],\n",
    "  'heads_num': [2, 4, 8],\n",
    "  'num_transformer_blocks': [1, 2, 3],\n",
    "  'learning_rate': [1e-3, 1e-4]\n",
    "}\n",
    "\n",
    "tuner = RandomizedSearchCV(model, param_grid, n_iter = 20, cv = 3)\n",
    "random_result = tuner.fit(X_train, y_train)"
   ]
  },
  {
   "cell_type": "code",
   "execution_count": null,
   "metadata": {},
   "outputs": [
    {
     "data": {
      "text/plain": [
       "{'loss': [0.7623478770256042,\n",
       "  0.5424875020980835,\n",
       "  0.48838749527931213,\n",
       "  0.4465582072734833,\n",
       "  0.4073052704334259,\n",
       "  0.36876180768013,\n",
       "  0.3617266118526459,\n",
       "  0.36038938164711,\n",
       "  0.3633369207382202,\n",
       "  0.3812091648578644,\n",
       "  0.36653852462768555,\n",
       "  0.3608231544494629,\n",
       "  0.3576618432998657,\n",
       "  0.3560537099838257,\n",
       "  0.35730230808258057,\n",
       "  0.35564348101615906,\n",
       "  0.3554535210132599,\n",
       "  0.3556021451950073,\n",
       "  0.3570998013019562,\n",
       "  0.3558098077774048],\n",
       " 'accuracy': [0.5271599888801575,\n",
       "  0.7331200242042542,\n",
       "  0.7690399885177612,\n",
       "  0.796720027923584,\n",
       "  0.8192800283432007,\n",
       "  0.8418800234794617,\n",
       "  0.8390799760818481,\n",
       "  0.8418800234794617,\n",
       "  0.8422399759292603,\n",
       "  0.8391600251197815,\n",
       "  0.8415200114250183,\n",
       "  0.8431599736213684,\n",
       "  0.8424000144004822,\n",
       "  0.8438400030136108,\n",
       "  0.843999981880188,\n",
       "  0.8440399765968323,\n",
       "  0.8443999886512756,\n",
       "  0.843720018863678,\n",
       "  0.8430799841880798,\n",
       "  0.8444399833679199],\n",
       " 'val_loss': [0.6021260619163513,\n",
       "  0.49872544407844543,\n",
       "  0.4758150279521942,\n",
       "  0.43873515725135803,\n",
       "  0.4742850661277771,\n",
       "  0.420917809009552,\n",
       "  0.4182499647140503,\n",
       "  0.4221099615097046,\n",
       "  0.4407303035259247,\n",
       "  0.41614019870758057,\n",
       "  0.41662707924842834,\n",
       "  0.41514524817466736,\n",
       "  0.412648469209671,\n",
       "  0.43137285113334656,\n",
       "  0.41808679699897766,\n",
       "  0.4147433638572693,\n",
       "  0.41521522402763367,\n",
       "  0.41616109013557434,\n",
       "  0.4161551594734192,\n",
       "  0.41865894198417664],\n",
       " 'val_accuracy': [0.6841599941253662,\n",
       "  0.7581999897956848,\n",
       "  0.7778800129890442,\n",
       "  0.7995200157165527,\n",
       "  0.790120005607605,\n",
       "  0.8054800033569336,\n",
       "  0.810479998588562,\n",
       "  0.8107200264930725,\n",
       "  0.8047599792480469,\n",
       "  0.8125600218772888,\n",
       "  0.8110799789428711,\n",
       "  0.8123599886894226,\n",
       "  0.8129600286483765,\n",
       "  0.8026400208473206,\n",
       "  0.8100000023841858,\n",
       "  0.8139200210571289,\n",
       "  0.8139200210571289,\n",
       "  0.8126800060272217,\n",
       "  0.8140400052070618,\n",
       "  0.8132799863815308]}"
      ]
     },
     "execution_count": 26,
     "metadata": {},
     "output_type": "execute_result"
    }
   ],
   "source": [
    "hist.history"
   ]
  },
  {
   "cell_type": "code",
   "execution_count": null,
   "metadata": {},
   "outputs": [
    {
     "data": {
      "text/plain": [
       "(0.3, 1.0)"
      ]
     },
     "execution_count": 32,
     "metadata": {},
     "output_type": "execute_result"
    },
    {
     "data": {
      "image/png": "[encoded data removed]",
      "text/plain": [
       "<Figure size 640x480 with 1 Axes>"
      ]
     },
     "metadata": {},
     "output_type": "display_data"
    }
   ],
   "source": [
    "plt.plot(custom_hist.losses)\n",
    "plt.plot(custom_hist.accuracies)\n",
    "plt.ylim((0.3,1))"
   ]
  },
  {
   "cell_type": "code",
   "execution_count": null,
   "metadata": {},
   "outputs": [
    {
     "data": {
      "image/png": "[encoded data removed]",
      "text/plain": [
       "<IPython.core.display.Image object>"
      ]
     },
     "execution_count": 28,
     "metadata": {},
     "output_type": "execute_result"
    }
   ],
   "source": [
    "model.plot((512))"
   ]
  },
  {
   "cell_type": "code",
   "execution_count": null,
   "metadata": {},
   "outputs": [],
   "source": []
  }
 ],
 "metadata": {
  "kernelspec": {
   "display_name": "torch_env",
   "language": "python",
   "name": "python3"
  },
  "language_info": {
   "codemirror_mode": {
    "name": "ipython",
    "version": 3
   },
   "file_extension": ".py",
   "mimetype": "text/x-python",
   "name": "python",
   "nbconvert_exporter": "python",
   "pygments_lexer": "ipython3",
   "version": "3.11.5"
  }
 },
 "nbformat": 4,
 "nbformat_minor": 2
}
